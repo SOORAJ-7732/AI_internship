{
 "cells": [
  {
   "cell_type": "code",
   "execution_count": null,
   "id": "de1c64e3-ff6d-4d9f-abdb-896e30f6993d",
   "metadata": {},
   "outputs": [
    {
     "name": "stdout",
     "output_type": "stream",
     "text": [
      "Start talking with the bot (type 'exit' to stop)\n"
     ]
    },
    {
     "name": "stdin",
     "output_type": "stream",
     "text": [
      "You:  enna macha saaptiya\n"
     ]
    },
    {
     "name": "stdout",
     "output_type": "stream",
     "text": [
      "Bot: Ama macha varumbodhu dhaan beef biriyani saapten!\n"
     ]
    },
    {
     "name": "stdin",
     "output_type": "stream",
     "text": [
      "You:  enna macha saaptiya\n"
     ]
    },
    {
     "name": "stdout",
     "output_type": "stream",
     "text": [
      "Bot: Ama macha varumbodhu dhaan beef biriyani saapten!\n"
     ]
    },
    {
     "name": "stdin",
     "output_type": "stream",
     "text": [
      "You:  Hi \n"
     ]
    },
    {
     "name": "stdout",
     "output_type": "stream",
     "text": [
      "Bot: I didn’t understand that.\n"
     ]
    },
    {
     "name": "stdin",
     "output_type": "stream",
     "text": [
      "You:  hi\n"
     ]
    },
    {
     "name": "stdout",
     "output_type": "stream",
     "text": [
      "Bot: Hey!\n"
     ]
    },
    {
     "name": "stdin",
     "output_type": "stream",
     "text": [
      "You:  how are you\n"
     ]
    },
    {
     "name": "stdout",
     "output_type": "stream",
     "text": [
      "Bot: I'm good, thanks!\n"
     ]
    },
    {
     "name": "stdin",
     "output_type": "stream",
     "text": [
      "You:  enna macha saaptiya\n"
     ]
    },
    {
     "name": "stdout",
     "output_type": "stream",
     "text": [
      "Bot: illa macha saapdala!\n"
     ]
    },
    {
     "name": "stdin",
     "output_type": "stream",
     "text": [
      "You:  bye\n"
     ]
    },
    {
     "name": "stdout",
     "output_type": "stream",
     "text": [
      "Bot: Bye! Take care!\n"
     ]
    }
   ],
   "source": [
    "import random\n",
    "\n",
    "# Define the input-response pairs\n",
    "pairs = {\n",
    "    \"hi\": [\"Hello!\", \"Hi there!\", \"Hey!\"],\n",
    "    \"how are you\": [\"I'm good, thanks!\", \"Doing well!\", \"I'm a bot, but I'm okay!\"],\n",
    "    \"bye\": [\"Goodbye!\", \"See you later!\", \"Bye! Take care!\"],\n",
    "    \"enna macha saaptiya\":[\"Ama macha varumbodhu dhaan beef biriyani saapten!\",\"illa macha saapdala!\"]\n",
    "}\n",
    "\n",
    "def chatbot():\n",
    "    print(\"Start talking with the bot (type 'exit' to stop)\")\n",
    "    while True:\n",
    "        user_input = input(\"You: \").lower()\n",
    "        if user_input == \"exit\":\n",
    "            print(\"Bot: Goodbye!\")\n",
    "            break\n",
    "        elif user_input in pairs:\n",
    "            print(\"Bot:\", random.choice(pairs[user_input]))\n",
    "        else:\n",
    "            print(\"Bot: I didn’t understand that.\")\n",
    "\n",
    "chatbot()"
   ]
  },
  {
   "cell_type": "code",
   "execution_count": 2,
   "id": "ede5f1b5-11f0-44ff-b7e0-2d33401dc87e",
   "metadata": {},
   "outputs": [],
   "source": []
  },
  {
   "cell_type": "code",
   "execution_count": 3,
   "id": "153e9061-51a0-4939-a3a0-2c05d34046d3",
   "metadata": {},
   "outputs": [],
   "source": [
    "\n"
   ]
  },
  {
   "cell_type": "code",
   "execution_count": 14,
   "id": "96cfae8d-917a-4530-97c2-18499c49b5c7",
   "metadata": {},
   "outputs": [],
   "source": []
  },
  {
   "cell_type": "code",
   "execution_count": 15,
   "id": "b440efd7-2526-439d-829e-95da33993710",
   "metadata": {},
   "outputs": [],
   "source": []
  },
  {
   "cell_type": "code",
   "execution_count": 1,
   "id": "084e5e5a-11c6-460f-8fc0-17b5354cd648",
   "metadata": {},
   "outputs": [],
   "source": []
  },
  {
   "cell_type": "code",
   "execution_count": 2,
   "id": "a3c4227e-0603-42ef-b3ad-40d1cdfe5ee6",
   "metadata": {},
   "outputs": [
    {
     "data": {
      "text/plain": [
       "'hello'"
      ]
     },
     "execution_count": 2,
     "metadata": {},
     "output_type": "execute_result"
    }
   ],
   "source": [
    "\n"
   ]
  },
  {
   "cell_type": "code",
   "execution_count": null,
   "id": "9b538411-1313-4abb-a455-041a900d065f",
   "metadata": {},
   "outputs": [],
   "source": []
  }
 ],
 "metadata": {
  "kernelspec": {
   "display_name": "Python [conda env:base] *",
   "language": "python",
   "name": "conda-base-py"
  },
  "language_info": {
   "codemirror_mode": {
    "name": "ipython",
    "version": 3
   },
   "file_extension": ".py",
   "mimetype": "text/x-python",
   "name": "python",
   "nbconvert_exporter": "python",
   "pygments_lexer": "ipython3",
   "version": "3.12.7"
  }
 },
 "nbformat": 4,
 "nbformat_minor": 5
}
