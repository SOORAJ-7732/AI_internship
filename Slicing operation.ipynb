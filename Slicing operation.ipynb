{
 "cells": [
  {
   "cell_type": "code",
   "execution_count": 1,
   "id": "59fbf64d-af99-4a13-8548-250649ce8827",
   "metadata": {},
   "outputs": [
    {
     "ename": "SyntaxError",
     "evalue": "invalid syntax (2237819390.py, line 1)",
     "output_type": "error",
     "traceback": [
      "\u001b[1;36m  Cell \u001b[1;32mIn[1], line 1\u001b[1;36m\u001b[0m\n\u001b[1;33m    string=top tech developers\u001b[0m\n\u001b[1;37m               ^\u001b[0m\n\u001b[1;31mSyntaxError\u001b[0m\u001b[1;31m:\u001b[0m invalid syntax\n"
     ]
    }
   ],
   "source": [
    "string=top tech developers \n",
    "string "
   ]
  },
  {
   "cell_type": "code",
   "execution_count": 2,
   "id": "abc5e1e0-cd0d-48eb-b5a1-bafdd6bb216b",
   "metadata": {},
   "outputs": [
    {
     "ename": "SyntaxError",
     "evalue": "invalid syntax (840781292.py, line 1)",
     "output_type": "error",
     "traceback": [
      "\u001b[1;36m  Cell \u001b[1;32mIn[2], line 1\u001b[1;36m\u001b[0m\n\u001b[1;33m    string=top tech developers\u001b[0m\n\u001b[1;37m               ^\u001b[0m\n\u001b[1;31mSyntaxError\u001b[0m\u001b[1;31m:\u001b[0m invalid syntax\n"
     ]
    }
   ],
   "source": [
    "string=top tech developers\n",
    "print string\n"
   ]
  },
  {
   "cell_type": "code",
   "execution_count": 3,
   "id": "96c425e1-29ed-40e3-9b9a-874dd1604e68",
   "metadata": {},
   "outputs": [
    {
     "ename": "SyntaxError",
     "evalue": "Missing parentheses in call to 'print'. Did you mean print(...)? (1746793958.py, line 2)",
     "output_type": "error",
     "traceback": [
      "\u001b[1;36m  Cell \u001b[1;32mIn[3], line 2\u001b[1;36m\u001b[0m\n\u001b[1;33m    print string\u001b[0m\n\u001b[1;37m    ^\u001b[0m\n\u001b[1;31mSyntaxError\u001b[0m\u001b[1;31m:\u001b[0m Missing parentheses in call to 'print'. Did you mean print(...)?\n"
     ]
    }
   ],
   "source": [
    "string=\"Top tech developers \"\n",
    "print string"
   ]
  },
  {
   "cell_type": "code",
   "execution_count": 4,
   "id": "9a8d4a5c-4f6c-4bb5-b556-c5fadf2f6299",
   "metadata": {},
   "outputs": [
    {
     "name": "stdout",
     "output_type": "stream",
     "text": [
      "Top Tech developers\n"
     ]
    }
   ],
   "source": [
    "string=\"Top Tech developers\"\n",
    "print(string)"
   ]
  },
  {
   "cell_type": "code",
   "execution_count": 6,
   "id": "3b9b4ed0-1393-4c78-8ba1-cd8d75a2b688",
   "metadata": {},
   "outputs": [
    {
     "name": "stdout",
     "output_type": "stream",
     "text": [
      "Top Tec\n"
     ]
    }
   ],
   "source": [
    "string=\"Top Tech developers\"\n",
    "print(string[0:7])"
   ]
  },
  {
   "cell_type": "code",
   "execution_count": 7,
   "id": "9fb12530-e390-4fc1-962c-69a442593d2c",
   "metadata": {},
   "outputs": [
    {
     "name": "stdout",
     "output_type": "stream",
     "text": [
      "This is top tech devel\n"
     ]
    }
   ],
   "source": [
    "string=\"This is top tech developers\"\n",
    "print(string[:-5])"
   ]
  },
  {
   "cell_type": "code",
   "execution_count": 9,
   "id": "5f1f1e00-acaa-4068-8b31-9d7d7f85d047",
   "metadata": {},
   "outputs": [
    {
     "name": "stdout",
     "output_type": "stream",
     "text": [
      "This is top tech developers\n"
     ]
    }
   ],
   "source": [
    "string=\"This is top tech developers\"\n",
    "print(string[:28])"
   ]
  },
  {
   "cell_type": "code",
   "execution_count": 10,
   "id": "02e5bc12-3b27-4998-a6f3-17793f66bdae",
   "metadata": {},
   "outputs": [
    {
     "name": "stdout",
     "output_type": "stream",
     "text": [
      "This is top tech developers\n"
     ]
    }
   ],
   "source": [
    "string=\"This is top tech developers\"\n",
    "print(string[0:28])"
   ]
  },
  {
   "cell_type": "code",
   "execution_count": 14,
   "id": "5e1538d4-8bcb-4f12-a32c-e3f4fc75a969",
   "metadata": {
    "scrolled": true
   },
   "outputs": [
    {
     "name": "stdout",
     "output_type": "stream",
     "text": [
      "opers\n"
     ]
    }
   ],
   "source": [
    "string=\"This is top tech developers\"\n",
    "print(string[-5:])"
   ]
  },
  {
   "cell_type": "code",
   "execution_count": 15,
   "id": "dda6a543-c90c-4d0b-b96c-c323de3ea6de",
   "metadata": {},
   "outputs": [
    {
     "name": "stdout",
     "output_type": "stream",
     "text": [
      "\n"
     ]
    }
   ],
   "source": [
    "string=\"This is top tech developers\"\n",
    "print(string[-1:-5])"
   ]
  },
  {
   "cell_type": "code",
   "execution_count": 17,
   "id": "8df35b15-f2cb-492d-875c-8902d4627552",
   "metadata": {},
   "outputs": [
    {
     "name": "stdout",
     "output_type": "stream",
     "text": [
      "sistant\n"
     ]
    }
   ],
   "source": [
    "string=\"This is jarvis ur personal assistant\"\n",
    "print(string[-7:])"
   ]
  },
  {
   "cell_type": "code",
   "execution_count": 18,
   "id": "2968433d-9c8c-4b11-9a0d-ea6badc3dad8",
   "metadata": {},
   "outputs": [
    {
     "name": "stdout",
     "output_type": "stream",
     "text": [
      "This is jarvis ur personal a\n"
     ]
    }
   ],
   "source": [
    "string=\"This is jarvis ur personal assistant\"\n",
    "print(string[:-8])"
   ]
  },
  {
   "cell_type": "code",
   "execution_count": 19,
   "id": "c4541613-e6cf-4307-bfe0-0e2c14fb6883",
   "metadata": {},
   "outputs": [
    {
     "name": "stdout",
     "output_type": "stream",
     "text": [
      "s jarvis ur personal a\n"
     ]
    }
   ],
   "source": [
    "string=\"This is jarvis ur personal assistant\"\n",
    "print(string[6:-8])"
   ]
  },
  {
   "cell_type": "markdown",
   "id": "00472497-edf1-4be9-8792-af610be69d7f",
   "metadata": {
    "jp-MarkdownHeadingCollapsed": true
   },
   "source": []
  },
  {
   "cell_type": "code",
   "execution_count": 20,
   "id": "4cec305d-f9ee-4365-b0bb-4f3675aab778",
   "metadata": {},
   "outputs": [
    {
     "name": "stdout",
     "output_type": "stream",
     "text": [
      "or\n"
     ]
    }
   ],
   "source": [
    "string=\"Sooraj\"\n",
    "print(string[2:-2])"
   ]
  },
  {
   "cell_type": "code",
   "execution_count": null,
   "id": "7bb53c0e-25aa-4873-80cb-cea93cdf9f75",
   "metadata": {},
   "outputs": [],
   "source": []
  },
  {
   "cell_type": "code",
   "execution_count": null,
   "id": "c654fed8-36c1-44fe-9df6-11178766aa2b",
   "metadata": {},
   "outputs": [],
   "source": []
  },
  {
   "cell_type": "code",
   "execution_count": null,
   "id": "dcd07c58-ba82-4b0a-a761-56847f7e9351",
   "metadata": {},
   "outputs": [],
   "source": []
  },
  {
   "cell_type": "code",
   "execution_count": null,
   "id": "284b4a0d-9bc5-444b-85d5-8ba8bc905625",
   "metadata": {},
   "outputs": [],
   "source": []
  }
 ],
 "metadata": {
  "kernelspec": {
   "display_name": "Python [conda env:base] *",
   "language": "python",
   "name": "conda-base-py"
  },
  "language_info": {
   "codemirror_mode": {
    "name": "ipython",
    "version": 3
   },
   "file_extension": ".py",
   "mimetype": "text/x-python",
   "name": "python",
   "nbconvert_exporter": "python",
   "pygments_lexer": "ipython3",
   "version": "3.12.7"
  }
 },
 "nbformat": 4,
 "nbformat_minor": 5
}
